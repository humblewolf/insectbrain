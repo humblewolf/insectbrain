{
 "cells": [
  {
   "cell_type": "code",
   "execution_count": 63,
   "id": "6676d17b-ec9e-4650-8909-396ab023e6a1",
   "metadata": {},
   "outputs": [],
   "source": [
    "class Value:\n",
    "    def __init__(self, data, children = (), label = \"\", op = \"\"):\n",
    "        self.data = data\n",
    "        self.grad = 0.0\n",
    "        self._prev = children\n",
    "        self.backward = None\n",
    "        self.label = label\n",
    "        self._op = op\n",
    "\n",
    "    def __add__(self, other):\n",
    "        data = self.data + other.data\n",
    "        val = Value(data, (self, other), op = \"+\")\n",
    "        def backward():\n",
    "            self.grad += 1.0 * val.grad\n",
    "            other.grad += 1.0 * val.grad\n",
    "\n",
    "        val.backward = backward\n",
    "        return val\n",
    "\n",
    "    def __mul__(self, other):\n",
    "        data = self.data * other.data\n",
    "        val = Value(data, (self, other), op = \"*\")\n",
    "        def backward():\n",
    "            self.grad += other.data * val.grad\n",
    "            other.grad += self.data * val.grad\n",
    "\n",
    "        val.backward = backward\n",
    "        return val\n",
    "        "
   ]
  },
  {
   "cell_type": "code",
   "execution_count": 64,
   "id": "02aaf860-9746-4fbd-ac91-5096f65ec679",
   "metadata": {},
   "outputs": [
    {
     "name": "stdout",
     "output_type": "stream",
     "text": [
      "10.0\n",
      "1.0\n"
     ]
    }
   ],
   "source": [
    "a = Value(5, label = \"a\")\n",
    "b = Value(4, label = \"b\")\n",
    "c = Value(10, label = \"c\")\n",
    "\n",
    "x = a + b\n",
    "l = x * c\n",
    "\n",
    "l.grad = 1.0\n",
    "\n",
    "l.backward()\n",
    "\n",
    "print(x.grad)\n",
    "print(l.grad)"
   ]
  },
  {
   "cell_type": "code",
   "execution_count": 48,
   "id": "1efd81d9-fa24-4e62-9127-eaa6fa8db66b",
   "metadata": {},
   "outputs": [
    {
     "data": {
      "text/plain": [
       "9.0"
      ]
     },
     "execution_count": 48,
     "metadata": {},
     "output_type": "execute_result"
    }
   ],
   "source": [
    "c.grad"
   ]
  },
  {
   "cell_type": "code",
   "execution_count": 49,
   "id": "4b11bad4-8d3f-49dd-b1b6-dd75d227b367",
   "metadata": {},
   "outputs": [
    {
     "data": {
      "text/plain": [
       "10.0"
      ]
     },
     "execution_count": 49,
     "metadata": {},
     "output_type": "execute_result"
    }
   ],
   "source": [
    "x.grad"
   ]
  },
  {
   "cell_type": "code",
   "execution_count": 65,
   "id": "60647a9d-b578-4efd-a032-2335bd7a300e",
   "metadata": {},
   "outputs": [],
   "source": [
    "x.backward()"
   ]
  },
  {
   "cell_type": "code",
   "execution_count": 51,
   "id": "f433120c-ab6c-491f-8e05-0de22ce9f2c7",
   "metadata": {},
   "outputs": [
    {
     "data": {
      "text/plain": [
       "10.0"
      ]
     },
     "execution_count": 51,
     "metadata": {},
     "output_type": "execute_result"
    }
   ],
   "source": [
    "a.grad"
   ]
  },
  {
   "cell_type": "code",
   "execution_count": 52,
   "id": "05058672-ac90-4aa4-b03a-d193f471537c",
   "metadata": {},
   "outputs": [
    {
     "data": {
      "text/plain": [
       "10.0"
      ]
     },
     "execution_count": 52,
     "metadata": {},
     "output_type": "execute_result"
    }
   ],
   "source": [
    "b.grad"
   ]
  },
  {
   "cell_type": "code",
   "execution_count": 61,
   "id": "bf4d674c-8b68-473b-b1dd-c406e5e4314f",
   "metadata": {},
   "outputs": [],
   "source": [
    "from graphviz import Digraph\n",
    "\n",
    "def trace(root):\n",
    "  # builds a set of all nodes and edges in a graph\n",
    "  nodes, edges = set(), set()\n",
    "  def build(v):\n",
    "    if v not in nodes:\n",
    "      nodes.add(v)\n",
    "      for child in v._prev:\n",
    "        edges.add((child, v))\n",
    "        build(child)\n",
    "  build(root)\n",
    "  return nodes, edges\n",
    "\n",
    "def draw_dot(root):\n",
    "  dot = Digraph(format='svg', graph_attr={'rankdir': 'LR'}) # LR = left to right\n",
    "  \n",
    "  nodes, edges = trace(root)\n",
    "  for n in nodes:\n",
    "    uid = str(id(n))\n",
    "    # for any value in the graph, create a rectangular ('record') node for it\n",
    "    dot.node(name = uid, label = \"{ %s | data %.4f | grad %.4f }\" % (n.label, n.data, n.grad), shape='record')\n",
    "    if n._op:\n",
    "      # if this value is a result of some operation, create an op node for it\n",
    "      dot.node(name = uid + n._op, label = n._op)\n",
    "      # and connect this node to it\n",
    "      dot.edge(uid + n._op, uid)\n",
    "\n",
    "  for n1, n2 in edges:\n",
    "    # connect n1 to the op node of n2\n",
    "    dot.edge(str(id(n1)), str(id(n2)) + n2._op)\n",
    "\n",
    "  return dot"
   ]
  },
  {
   "cell_type": "code",
   "execution_count": 66,
   "id": "34c15729-1d44-4f7d-aa27-e7b553a16659",
   "metadata": {},
   "outputs": [
    {
     "data": {
      "image/svg+xml": [
       "<?xml version=\"1.0\" encoding=\"UTF-8\" standalone=\"no\"?>\n",
       "<!DOCTYPE svg PUBLIC \"-//W3C//DTD SVG 1.1//EN\"\n",
       " \"http://www.w3.org/Graphics/SVG/1.1/DTD/svg11.dtd\">\n",
       "<!-- Generated by graphviz version 13.1.0 (20250701.0955)\n",
       " -->\n",
       "<!-- Pages: 1 -->\n",
       "<svg width=\"828pt\" height=\"128pt\"\n",
       " viewBox=\"0.00 0.00 828.00 128.00\" xmlns=\"http://www.w3.org/2000/svg\" xmlns:xlink=\"http://www.w3.org/1999/xlink\">\n",
       "<g id=\"graph0\" class=\"graph\" transform=\"scale(1 1) rotate(0) translate(4 124)\">\n",
       "<polygon fill=\"white\" stroke=\"none\" points=\"-4,4 -4,-124 823.75,-124 823.75,4 -4,4\"/>\n",
       "<!-- 4524414480 -->\n",
       "<g id=\"node1\" class=\"node\">\n",
       "<title>4524414480</title>\n",
       "<polygon fill=\"none\" stroke=\"black\" points=\"0.38,-83.5 0.38,-119.5 190.12,-119.5 190.12,-83.5 0.38,-83.5\"/>\n",
       "<text xml:space=\"preserve\" text-anchor=\"middle\" x=\"11.38\" y=\"-96.7\" font-family=\"Times,serif\" font-size=\"14.00\">a</text>\n",
       "<polyline fill=\"none\" stroke=\"black\" points=\"22.38,-84 22.38,-119.5\"/>\n",
       "<text xml:space=\"preserve\" text-anchor=\"middle\" x=\"62.25\" y=\"-96.7\" font-family=\"Times,serif\" font-size=\"14.00\">data 5.0000</text>\n",
       "<polyline fill=\"none\" stroke=\"black\" points=\"102.12,-84 102.12,-119.5\"/>\n",
       "<text xml:space=\"preserve\" text-anchor=\"middle\" x=\"146.12\" y=\"-96.7\" font-family=\"Times,serif\" font-size=\"14.00\">grad 10.0000</text>\n",
       "</g>\n",
       "<!-- 4523404496+ -->\n",
       "<g id=\"node4\" class=\"node\">\n",
       "<title>4523404496+</title>\n",
       "<ellipse fill=\"none\" stroke=\"black\" cx=\"253.5\" cy=\"-73.5\" rx=\"27\" ry=\"18\"/>\n",
       "<text xml:space=\"preserve\" text-anchor=\"middle\" x=\"253.5\" y=\"-68.45\" font-family=\"Times,serif\" font-size=\"14.00\">+</text>\n",
       "</g>\n",
       "<!-- 4524414480&#45;&gt;4523404496+ -->\n",
       "<g id=\"edge5\" class=\"edge\">\n",
       "<title>4524414480&#45;&gt;4523404496+</title>\n",
       "<path fill=\"none\" stroke=\"black\" d=\"M190.3,-84.65C199.22,-83.05 207.86,-81.5 215.72,-80.09\"/>\n",
       "<polygon fill=\"black\" stroke=\"black\" points=\"216.26,-83.55 225.48,-78.34 215.02,-76.66 216.26,-83.55\"/>\n",
       "</g>\n",
       "<!-- 4524405264 -->\n",
       "<g id=\"node2\" class=\"node\">\n",
       "<title>4524405264</title>\n",
       "<polygon fill=\"none\" stroke=\"black\" points=\"0,-28.5 0,-64.5 190.5,-64.5 190.5,-28.5 0,-28.5\"/>\n",
       "<text xml:space=\"preserve\" text-anchor=\"middle\" x=\"11.38\" y=\"-41.7\" font-family=\"Times,serif\" font-size=\"14.00\">b</text>\n",
       "<polyline fill=\"none\" stroke=\"black\" points=\"22.75,-29 22.75,-64.5\"/>\n",
       "<text xml:space=\"preserve\" text-anchor=\"middle\" x=\"62.62\" y=\"-41.7\" font-family=\"Times,serif\" font-size=\"14.00\">data 4.0000</text>\n",
       "<polyline fill=\"none\" stroke=\"black\" points=\"102.5,-29 102.5,-64.5\"/>\n",
       "<text xml:space=\"preserve\" text-anchor=\"middle\" x=\"146.5\" y=\"-41.7\" font-family=\"Times,serif\" font-size=\"14.00\">grad 10.0000</text>\n",
       "</g>\n",
       "<!-- 4524405264&#45;&gt;4523404496+ -->\n",
       "<g id=\"edge3\" class=\"edge\">\n",
       "<title>4524405264&#45;&gt;4523404496+</title>\n",
       "<path fill=\"none\" stroke=\"black\" d=\"M190.75,-62.83C199.54,-64.35 208.04,-65.82 215.78,-67.15\"/>\n",
       "<polygon fill=\"black\" stroke=\"black\" points=\"214.94,-70.56 225.39,-68.81 216.13,-63.66 214.94,-70.56\"/>\n",
       "</g>\n",
       "<!-- 4523404496 -->\n",
       "<g id=\"node3\" class=\"node\">\n",
       "<title>4523404496</title>\n",
       "<polygon fill=\"none\" stroke=\"black\" points=\"317.62,-55.5 317.62,-91.5 505.12,-91.5 505.12,-55.5 317.62,-55.5\"/>\n",
       "<text xml:space=\"preserve\" text-anchor=\"middle\" x=\"327.5\" y=\"-68.7\" font-family=\"Times,serif\" font-size=\"14.00\"> </text>\n",
       "<polyline fill=\"none\" stroke=\"black\" points=\"337.38,-56 337.38,-91.5\"/>\n",
       "<text xml:space=\"preserve\" text-anchor=\"middle\" x=\"377.25\" y=\"-68.7\" font-family=\"Times,serif\" font-size=\"14.00\">data 9.0000</text>\n",
       "<polyline fill=\"none\" stroke=\"black\" points=\"417.12,-56 417.12,-91.5\"/>\n",
       "<text xml:space=\"preserve\" text-anchor=\"middle\" x=\"461.12\" y=\"-68.7\" font-family=\"Times,serif\" font-size=\"14.00\">grad 10.0000</text>\n",
       "</g>\n",
       "<!-- 4524417232* -->\n",
       "<g id=\"node6\" class=\"node\">\n",
       "<title>4524417232*</title>\n",
       "<ellipse fill=\"none\" stroke=\"black\" cx=\"569.25\" cy=\"-45.5\" rx=\"27\" ry=\"18\"/>\n",
       "<text xml:space=\"preserve\" text-anchor=\"middle\" x=\"569.25\" y=\"-40.45\" font-family=\"Times,serif\" font-size=\"14.00\">*</text>\n",
       "</g>\n",
       "<!-- 4523404496&#45;&gt;4524417232* -->\n",
       "<g id=\"edge4\" class=\"edge\">\n",
       "<title>4523404496&#45;&gt;4524417232*</title>\n",
       "<path fill=\"none\" stroke=\"black\" d=\"M505.3,-56.81C514.5,-55.16 523.41,-53.56 531.49,-52.1\"/>\n",
       "<polygon fill=\"black\" stroke=\"black\" points=\"531.96,-55.58 541.18,-50.36 530.72,-48.69 531.96,-55.58\"/>\n",
       "</g>\n",
       "<!-- 4523404496+&#45;&gt;4523404496 -->\n",
       "<g id=\"edge1\" class=\"edge\">\n",
       "<title>4523404496+&#45;&gt;4523404496</title>\n",
       "<path fill=\"none\" stroke=\"black\" d=\"M280.94,-73.5C288.35,-73.5 296.89,-73.5 305.96,-73.5\"/>\n",
       "<polygon fill=\"black\" stroke=\"black\" points=\"305.76,-77 315.76,-73.5 305.76,-70 305.76,-77\"/>\n",
       "</g>\n",
       "<!-- 4524417232 -->\n",
       "<g id=\"node5\" class=\"node\">\n",
       "<title>4524417232</title>\n",
       "<polygon fill=\"none\" stroke=\"black\" points=\"632.25,-27.5 632.25,-63.5 819.75,-63.5 819.75,-27.5 632.25,-27.5\"/>\n",
       "<text xml:space=\"preserve\" text-anchor=\"middle\" x=\"642.12\" y=\"-40.7\" font-family=\"Times,serif\" font-size=\"14.00\"> </text>\n",
       "<polyline fill=\"none\" stroke=\"black\" points=\"652,-28 652,-63.5\"/>\n",
       "<text xml:space=\"preserve\" text-anchor=\"middle\" x=\"695.25\" y=\"-40.7\" font-family=\"Times,serif\" font-size=\"14.00\">data 90.0000</text>\n",
       "<polyline fill=\"none\" stroke=\"black\" points=\"738.5,-28 738.5,-63.5\"/>\n",
       "<text xml:space=\"preserve\" text-anchor=\"middle\" x=\"779.12\" y=\"-40.7\" font-family=\"Times,serif\" font-size=\"14.00\">grad 1.0000</text>\n",
       "</g>\n",
       "<!-- 4524417232*&#45;&gt;4524417232 -->\n",
       "<g id=\"edge2\" class=\"edge\">\n",
       "<title>4524417232*&#45;&gt;4524417232</title>\n",
       "<path fill=\"none\" stroke=\"black\" d=\"M596.5,-45.5C603.66,-45.5 611.87,-45.5 620.6,-45.5\"/>\n",
       "<polygon fill=\"black\" stroke=\"black\" points=\"620.39,-49 630.39,-45.5 620.39,-42 620.39,-49\"/>\n",
       "</g>\n",
       "<!-- 4524416464 -->\n",
       "<g id=\"node7\" class=\"node\">\n",
       "<title>4524416464</title>\n",
       "<polygon fill=\"none\" stroke=\"black\" points=\"316.5,-0.5 316.5,-36.5 506.25,-36.5 506.25,-0.5 316.5,-0.5\"/>\n",
       "<text xml:space=\"preserve\" text-anchor=\"middle\" x=\"327.5\" y=\"-13.7\" font-family=\"Times,serif\" font-size=\"14.00\">c</text>\n",
       "<polyline fill=\"none\" stroke=\"black\" points=\"338.5,-1 338.5,-36.5\"/>\n",
       "<text xml:space=\"preserve\" text-anchor=\"middle\" x=\"381.75\" y=\"-13.7\" font-family=\"Times,serif\" font-size=\"14.00\">data 10.0000</text>\n",
       "<polyline fill=\"none\" stroke=\"black\" points=\"425,-1 425,-36.5\"/>\n",
       "<text xml:space=\"preserve\" text-anchor=\"middle\" x=\"465.62\" y=\"-13.7\" font-family=\"Times,serif\" font-size=\"14.00\">grad 9.0000</text>\n",
       "</g>\n",
       "<!-- 4524416464&#45;&gt;4524417232* -->\n",
       "<g id=\"edge6\" class=\"edge\">\n",
       "<title>4524416464&#45;&gt;4524417232*</title>\n",
       "<path fill=\"none\" stroke=\"black\" d=\"M506.64,-34.83C515.41,-36.35 523.9,-37.82 531.62,-39.15\"/>\n",
       "<polygon fill=\"black\" stroke=\"black\" points=\"530.75,-42.56 541.2,-40.81 531.94,-35.66 530.75,-42.56\"/>\n",
       "</g>\n",
       "</g>\n",
       "</svg>\n"
      ],
      "text/plain": [
       "<graphviz.graphs.Digraph at 0x10da0ecd0>"
      ]
     },
     "execution_count": 66,
     "metadata": {},
     "output_type": "execute_result"
    }
   ],
   "source": [
    "draw_dot(l)"
   ]
  }
 ],
 "metadata": {
  "kernelspec": {
   "display_name": "Python 3 (ipykernel)",
   "language": "python",
   "name": "python3"
  },
  "language_info": {
   "codemirror_mode": {
    "name": "ipython",
    "version": 3
   },
   "file_extension": ".py",
   "mimetype": "text/x-python",
   "name": "python",
   "nbconvert_exporter": "python",
   "pygments_lexer": "ipython3",
   "version": "3.11.4"
  }
 },
 "nbformat": 4,
 "nbformat_minor": 5
}
